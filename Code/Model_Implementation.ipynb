{
 "cells": [
  {
   "cell_type": "code",
   "execution_count": 4,
   "metadata": {},
   "outputs": [],
   "source": [
    "import pandas as pd\n",
    "import PricePredictionModel as model\n",
    "\n",
    "url = r\"https://raw.githubusercontent.com/yakincc/BBVA_PricePrediction_Abehackers/master/dataset_tasacion_train.xlsx\"\n",
    "df = pd.read_excel(url, header = 0, thousands=\",\")\n",
    "\n",
    "rfr = model.PricePredictionModel()\n",
    "X_train, X_test, y_train, y_test = rfr.preprocess(df)"
   ]
  },
  {
   "cell_type": "code",
   "execution_count": 5,
   "metadata": {},
   "outputs": [],
   "source": [
    "rfr.fit(X_train, y_train)\n",
    "y_pred = rfr.predict(X_test, csv_output = False)"
   ]
  },
  {
   "cell_type": "code",
   "execution_count": 6,
   "metadata": {},
   "outputs": [
    {
     "name": "stdout",
     "output_type": "stream",
     "text": [
      " MAPE = 147.5669146819654\n",
      " RMSE = 143176.92122995484\n",
      " R2 = 0.7540859304611963\n"
     ]
    }
   ],
   "source": [
    "from sklearn.metrics import mean_squared_error\n",
    "from sklearn.metrics import mean_absolute_percentage_error\n",
    "from sklearn.metrics import r2_score\n",
    "\n",
    "print(f' MAPE = {mean_absolute_percentage_error(y_test, y_pred)}')     \n",
    "print(f' RMSE = {mean_squared_error(y_test, y_pred, squared = False)}')\n",
    "print(f' R2 = {r2_score(y_test, y_pred)}')"
   ]
  }
 ],
 "metadata": {
  "kernelspec": {
   "display_name": "Python 3",
   "language": "python",
   "name": "python3"
  },
  "language_info": {
   "codemirror_mode": {
    "name": "ipython",
    "version": 3
   },
   "file_extension": ".py",
   "mimetype": "text/x-python",
   "name": "python",
   "nbconvert_exporter": "python",
   "pygments_lexer": "ipython3",
   "version": "3.10.10"
  },
  "orig_nbformat": 4
 },
 "nbformat": 4,
 "nbformat_minor": 2
}
